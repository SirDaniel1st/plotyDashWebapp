{
 "cells": [
  {
   "cell_type": "code",
   "execution_count": 4,
   "id": "89d46ae5",
   "metadata": {},
   "outputs": [],
   "source": [
    "import numpy as np\n",
    "import matplotlib.pyplot as plt\n",
    "\n",
    "from tslearn.datasets import CachedDatasets\n",
    "from tslearn.preprocessing import TimeSeriesScalerMinMax\n",
    "from tslearn.svm import TimeSeriesSVC"
   ]
  },
  {
   "cell_type": "code",
   "execution_count": 16,
   "id": "6fc33002",
   "metadata": {},
   "outputs": [
    {
     "name": "stdout",
     "output_type": "stream",
     "text": [
      "(181900, 14) (181900,)\n"
     ]
    }
   ],
   "source": [
    "X = np.load('usa_3d_scaled_flat.npy')\n",
    "y = np.load('usa_3d_class.npy')\n",
    "print(X.shape, y.shape)"
   ]
  },
  {
   "cell_type": "code",
   "execution_count": 22,
   "id": "65860cf3",
   "metadata": {},
   "outputs": [],
   "source": [
    "idx = np.random.randint(X.shape[0], size=18190)\n",
    "\n",
    "X = X[idx,:]\n",
    "y = y[idx]"
   ]
  },
  {
   "cell_type": "code",
   "execution_count": 23,
   "id": "71cc9338",
   "metadata": {},
   "outputs": [],
   "source": [
    "cutoff = 1455\n",
    "X_train, y_train, X_test, y_test = X[:cutoff, :], y[:cutoff], X[cutoff:, :], y[cutoff:]\n",
    "X_train = TimeSeriesScalerMinMax().fit_transform(X_train)\n",
    "X_test = TimeSeriesScalerMinMax().fit_transform(X_test)"
   ]
  },
  {
   "cell_type": "code",
   "execution_count": null,
   "id": "ada60e9e",
   "metadata": {},
   "outputs": [],
   "source": [
    "clf = TimeSeriesSVC(kernel=\"gak\", gamma=.1)\n",
    "clf.fit(X_train, y_train)\n",
    "print(\"Correct classification rate:\", clf.score(X_test, y_test))"
   ]
  },
  {
   "cell_type": "code",
   "execution_count": null,
   "id": "87c20afa",
   "metadata": {},
   "outputs": [],
   "source": [
    "n_classes = len(set(y_train))\n",
    "\n",
    "plt.figure()\n",
    "support_vectors = clf.support_vectors_\n",
    "for i, cl in enumerate(set(y_train)):\n",
    "    plt.subplot(n_classes, 1, i + 1)\n",
    "    plt.title(\"Support vectors for class %d\" % cl)\n",
    "    for ts in support_vectors[i]:\n",
    "        plt.plot(ts.ravel())\n",
    "\n",
    "plt.tight_layout()\n",
    "plt.show()"
   ]
  }
 ],
 "metadata": {
  "kernelspec": {
   "display_name": "tsai",
   "language": "python",
   "name": "tsai"
  },
  "language_info": {
   "codemirror_mode": {
    "name": "ipython",
    "version": 3
   },
   "file_extension": ".py",
   "mimetype": "text/x-python",
   "name": "python",
   "nbconvert_exporter": "python",
   "pygments_lexer": "ipython3",
   "version": "3.8.2"
  }
 },
 "nbformat": 4,
 "nbformat_minor": 5
}
